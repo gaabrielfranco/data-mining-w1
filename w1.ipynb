{
 "cells": [
  {
   "cell_type": "markdown",
   "metadata": {},
   "source": [
    "# Trabalho prático I - Aplicação de técnicas de agrupamento\n",
    "\n",
    "Nesse trabalho aplicaremos técnicas de aprendizado não-supervisionado em dados do [Yelp](https://drive.google.com/file/d/1dYJFszSL_oSoBLRoZGZPBvgywVcvL1M0/view?usp=sharing) (Ver detalhes sobre o Yelp Challenge [aqui](https://www.yelp.com/dataset/challenge)).\n",
    "\n",
    "O objetivo principal é encontrar distritos culinários na cidade de Las Vegas (Estados Unidos).\n",
    "No contexto desse trabalho, distritos culinários são caracterizados por um conjunto de restaurantes que simultaneamente estão próximos (geograficamente) e são similares (com respeito à comida que servem).\n",
    "\n",
    "O trabalho está dividido em duas partes. Em cada uma delas, vocês deverão utilizar uma parte diferente do conjunto de dados. Mais detalhes, nas seções a seguir.\n",
    "\n",
    "Além disso, vocês deverão utilizar _Python_ e _Jupyter Notebooks_, de forma que todos os resultados estarão em um _notebook_ (este aqui que vocês estão lendo). Vocês estarão livres para escolher as bibliotecas que preferirem.\n",
    "\n",
    "Sobre o trabalho:\n",
    "\n",
    "**Grupo:** de até 3 pessoas. Mantenha em mente que 2 pessoas no mesmo grupo neste trabalho não poderão estar no mesmo grupo no trabalho 2. Pode haver repetição com relação aos grupos das listas.\n",
    "\n",
    "**Data de entrega:** **23 de maio de 2018** (para ambas as partes) até às **18 horas**.\n",
    "\n",
    "**Forma de entrega:** Vocês deverão enviar esse notebook (com código, resultados e discussões) para o e-mail do professor. É importante ressaltar que seu notebook tem que ser executável, i.e., resultados (gráficos, tabelas e números) devem ser gerados novamente ao executar o código do notebook a partir do conjunto de dados originais. **A Falha desse último ponto implicará em nota zero!**\n",
    "\n",
    "**Versão do Python:** Python 2 ou Python 3. Apenas indiquem no início do trabalho qual foi escolhida.\n",
    "\n"
   ]
  },
  {
   "cell_type": "markdown",
   "metadata": {},
   "source": [
    "## Parte I\n",
    "\n",
    "No arquivo `yelp_academic_dataset_business.json` estão contidas informações sobre vários estabelecimentos comerciais do conjunto de dados do Yelp, incluindo várias cidades e tipos de estabelecimento que não temos interesse nesse trabalho. Em cada linha do arquivo há uma _string_ contendo um _json_ referente a cada estabelecimento.\n",
    "\n",
    "Abaixo, uma exemplo de _json_. Veja que:\n",
    "-  O atributo `city` identifica a cidade\n",
    "-  O atributo `business_id` é um identificador único no conjunto de dados em todos os arquivos\n",
    "-  Os atributos `latitude` e `longitude` estão disponíveis\n",
    "-  O atributo `categories` caracteriza o ramo de atividade. Todos os restaurantes têm a categoria 'Restaurants' nesse atributo. Além disso, o tipo de culinária de cada restaurante é descrito nesse atributo."
   ]
  },
  {
   "cell_type": "code",
   "execution_count": 1,
   "metadata": {},
   "outputs": [
    {
     "name": "stdout",
     "output_type": "stream",
     "text": [
      "{\n",
      "   \"city\": \"Las Vegas\", \n",
      "   \"neighborhood\": \"Southeast\", \n",
      "   \"name\": \"Flight Deck Bar & Grill\", \n",
      "   \"business_id\": \"Pd52CjgyEU3Rb8co6QfTPw\", \n",
      "   \"longitude\": -115.1708484, \n",
      "   \"hours\": {\n",
      "      \"Monday\": \"8:30-22:30\", \n",
      "      \"Tuesday\": \"8:30-22:30\", \n",
      "      \"Friday\": \"8:30-22:30\", \n",
      "      \"Wednesday\": \"8:30-22:30\", \n",
      "      \"Thursday\": \"8:30-22:30\", \n",
      "      \"Sunday\": \"8:30-22:30\", \n",
      "      \"Saturday\": \"8:30-22:30\"\n",
      "   }, \n",
      "   \"is_open\": 1, \n",
      "   \"state\": \"NV\", \n",
      "   \"postal_code\": \"89119\", \n",
      "   \"stars\": 4.0, \n",
      "   \"address\": \"6730 S Las Vegas Blvd\", \n",
      "   \"latitude\": 36.0669136, \n",
      "   \"review_count\": 13, \n",
      "   \"attributes\": {\n",
      "      \"Alcohol\": \"full_bar\", \n",
      "      \"HasTV\": true, \n",
      "      \"NoiseLevel\": \"average\", \n",
      "      \"RestaurantsAttire\": \"casual\", \n",
      "      \"BusinessAcceptsCreditCards\": true, \n",
      "      \"Music\": {\n",
      "         \"dj\": false, \n",
      "         \"background_music\": true, \n",
      "         \"no_music\": false, \n",
      "         \"karaoke\": false, \n",
      "         \"live\": false, \n",
      "         \"video\": false, \n",
      "         \"jukebox\": false\n",
      "      }, \n",
      "      \"Ambience\": {\n",
      "         \"romantic\": false, \n",
      "         \"intimate\": false, \n",
      "         \"classy\": false, \n",
      "         \"hipster\": false, \n",
      "         \"divey\": false, \n",
      "         \"touristy\": false, \n",
      "         \"trendy\": false, \n",
      "         \"upscale\": false, \n",
      "         \"casual\": true\n",
      "      }, \n",
      "      \"RestaurantsGoodForGroups\": true, \n",
      "      \"Caters\": true, \n",
      "      \"WiFi\": \"free\", \n",
      "      \"RestaurantsReservations\": false, \n",
      "      \"BikeParking\": true, \n",
      "      \"RestaurantsTakeOut\": true, \n",
      "      \"GoodForKids\": true, \n",
      "      \"HappyHour\": true, \n",
      "      \"GoodForDancing\": false, \n",
      "      \"RestaurantsTableService\": true, \n",
      "      \"OutdoorSeating\": false, \n",
      "      \"RestaurantsPriceRange2\": 2, \n",
      "      \"RestaurantsDelivery\": false, \n",
      "      \"BestNights\": {\n",
      "         \"monday\": false, \n",
      "         \"tuesday\": false, \n",
      "         \"friday\": false, \n",
      "         \"wednesday\": true, \n",
      "         \"thursday\": false, \n",
      "         \"sunday\": false, \n",
      "         \"saturday\": false\n",
      "      }, \n",
      "      \"GoodForMeal\": {\n",
      "         \"dessert\": false, \n",
      "         \"latenight\": false, \n",
      "         \"lunch\": true, \n",
      "         \"dinner\": false, \n",
      "         \"breakfast\": false, \n",
      "         \"brunch\": false\n",
      "      }, \n",
      "      \"BusinessParking\": {\n",
      "         \"garage\": false, \n",
      "         \"street\": false, \n",
      "         \"validated\": false, \n",
      "         \"lot\": true, \n",
      "         \"valet\": false\n",
      "      }, \n",
      "      \"CoatCheck\": false, \n",
      "      \"Smoking\": \"no\", \n",
      "      \"WheelchairAccessible\": true\n",
      "   }, \n",
      "   \"categories\": [\n",
      "      \"Nightlife\", \n",
      "      \"Bars\", \n",
      "      \"Barbeque\", \n",
      "      \"Sports Bars\", \n",
      "      \"American (New)\", \n",
      "      \"Restaurants\"\n",
      "   ]\n",
      "}\n"
     ]
    }
   ],
   "source": [
    "import json\n",
    "line = '{\"city\": \"Las Vegas\", \"neighborhood\": \"Southeast\", \"name\": \"Flight Deck Bar & Grill\", \"business_id\": \"Pd52CjgyEU3Rb8co6QfTPw\", \"longitude\": -115.1708484, \"hours\": {\"Monday\": \"8:30-22:30\", \"Tuesday\": \"8:30-22:30\", \"Friday\": \"8:30-22:30\", \"Wednesday\": \"8:30-22:30\", \"Thursday\": \"8:30-22:30\", \"Sunday\": \"8:30-22:30\", \"Saturday\": \"8:30-22:30\"}, \"state\": \"NV\", \"postal_code\": \"89119\", \"categories\": [\"Nightlife\", \"Bars\", \"Barbeque\", \"Sports Bars\", \"American (New)\", \"Restaurants\"], \"stars\": 4.0, \"address\": \"6730 S Las Vegas Blvd\", \"latitude\": 36.0669136, \"review_count\": 13, \"attributes\": {\"Alcohol\": \"full_bar\", \"HasTV\": true, \"NoiseLevel\": \"average\", \"RestaurantsAttire\": \"casual\", \"BusinessAcceptsCreditCards\": true, \"Music\": {\"dj\": false, \"background_music\": true, \"no_music\": false, \"jukebox\": false, \"live\": false, \"video\": false, \"karaoke\": false}, \"Ambience\": {\"romantic\": false, \"intimate\": false, \"classy\": false, \"hipster\": false, \"divey\": false, \"touristy\": false, \"trendy\": false, \"upscale\": false, \"casual\": true}, \"RestaurantsGoodForGroups\": true, \"Caters\": true, \"WiFi\": \"free\", \"RestaurantsReservations\": false, \"BikeParking\": true, \"RestaurantsTakeOut\": true, \"GoodForKids\": true, \"HappyHour\": true, \"GoodForDancing\": false, \"RestaurantsTableService\": true, \"OutdoorSeating\": false, \"RestaurantsPriceRange2\": 2, \"RestaurantsDelivery\": false, \"BestNights\": {\"monday\": false, \"tuesday\": false, \"friday\": false, \"wednesday\": true, \"thursday\": false, \"sunday\": false, \"saturday\": false}, \"GoodForMeal\": {\"dessert\": false, \"latenight\": false, \"lunch\": true, \"dinner\": false, \"brunch\": false, \"breakfast\": false}, \"BusinessParking\": {\"garage\": false, \"street\": false, \"validated\": false, \"lot\": true, \"valet\": false}, \"CoatCheck\": false, \"Smoking\": \"no\", \"WheelchairAccessible\": true}, \"is_open\": 1}'\n",
    "print(json.dumps(json.loads(line), indent = 3))"
   ]
  },
  {
   "cell_type": "markdown",
   "metadata": {},
   "source": [
    "A partir dos dados descritos, você deve encontrar distritos culinários em Las Vegas. Encontre grupos considerando que a similaridade entre restaurantes pode ser inferida pelo atributo `categories` e a proximidade através dos atributos `latitude` e `longitude`.\n",
    "\n",
    "**a)** Proponha uma representação apropriada para os dados. Justifique sua escolha\n",
    "\n",
    "**b)** Utilize técnicas de agrupamento para encontrar distritos culinários. É obrigatório o uso de pelo menos quatro técnicas:\n",
    "-  k-means\n",
    "-  Agrupamento hierárquico\n",
    "-  GMM (Gaussian Mixture Model)\n",
    "-  Agrupamento Espectral\n",
    "\n",
    "**Sugestão:** Todas já estão implementadas na biblioteca _sklearn_\n",
    "\n",
    "**c)** Apresente uma justificativa plausível para o número de grupos utilzado no item anterior\n",
    "\n",
    "**d)** Apresente o `dendrograma` para o resultado do agrupamento hierárquico\n",
    "\n",
    "**e)** Baseado no conteúdo de cada grupo, proponha uma forma sistemática de encontrar _rótulos_ para cada grupo. Veja que se dois grupos forem identificado pelo mesmo rótulo há um problema (com o resultado de seu agrupamento ou com sua forma de rotular grupos)\n",
    "\n",
    "**f)** Faça um gráfico para cada agrupamento obtido da seguinte forma:\n",
    "-  cada restaurante será um ponto no plano de acordo com suas coordenadas geográficas\n",
    "-  a cor de cada ponto será diferente para grupos diferentes\n",
    "-  cada grupo deve ser identificado com seu respectivo rótulo encontrado no item anterior (e.g., através de uma legenda de cor)\n",
    "\n",
    "**g)** Comente os resultados. Comente também as diferenças de cada agrupamento\n",
    "\n",
    "**Observação:** sua criatividade para gerar visualizações informativas e de qualidade será parte da avaliação.\n"
   ]
  },
  {
   "cell_type": "markdown",
   "metadata": {},
   "source": [
    "## Resolução da parte I\n",
    "\n",
    "### Inclusões de biblioteca"
   ]
  },
  {
   "cell_type": "code",
   "execution_count": 13,
   "metadata": {},
   "outputs": [],
   "source": [
    "import json\n",
    "import pandas as pd\n",
    "from sklearn.decomposition import PCA\n",
    "from sklearn.cluster import KMeans\n",
    "from sklearn.cluster import AgglomerativeClustering\n",
    "from sklearn.cluster import SpectralClustering\n",
    "from sklearn.mixture import GaussianMixture\n",
    "import matplotlib.pyplot as plt\n",
    "import seaborn as sns\n",
    "#from sklearn.preprocessing import MinMaxScaler"
   ]
  },
  {
   "cell_type": "markdown",
   "metadata": {},
   "source": [
    "### Leitura e representação dos dados\n",
    "\n",
    "A leitura dos dados foi feita da maneira em que, na nossa opinião, daria mais legibilidade ao código.  \n",
    "  \n",
    "Os dados estão sendo representados por uma matriz onde:\n",
    "* **Colunas**: Todas as categorias existentes (exceto \"Restaurants\"), onde cada categoria é um atributo binário, onde 1 indica que o restaurante pertence à categoria e 0 caso contrário, e dois valores ponto flutuante, que são a latitude e longitude\n",
    "* **Linhas**: Cada restaurante de Las Vegas existente na base de dados\n",
    "  \n",
    "Escolhemos utilizar o DataFrame do pandas, e exportamos os dados já montados para o arquivo \"/data/data_pt1.csv\", o qual iremos utilizar para os outros itens da primeira parte."
   ]
  },
  {
   "cell_type": "code",
   "execution_count": 2,
   "metadata": {},
   "outputs": [
    {
     "name": "stdout",
     "output_type": "stream",
     "text": [
      "<class 'pandas.core.frame.DataFrame'>\n",
      "RangeIndex: 4658 entries, 0 to 4657\n",
      "Columns: 163 entries, Active Life to longitude\n",
      "dtypes: float64(2), int64(161)"
     ]
    }
   ],
   "source": [
    "input_file = open(\"yelp_dataset_challenge_academic_dataset/yelp_academic_dataset_business.json\", \"r\")\n",
    "\n",
    "data = []\n",
    "attributes = ['latitude', 'longitude']\n",
    "data_dict = {}\n",
    "\n",
    "for line in input_file:\n",
    "    restaurant = json.loads(line)\n",
    "    if \"Restaurants\" in restaurant[\"categories\"] and restaurant[\"city\"] == \"Las Vegas\":\n",
    "        data.append(restaurant)\n",
    "        \n",
    "input_file.close()\n",
    "\n",
    "for restaurant in data:\n",
    "    for category in restaurant[\"categories\"]:\n",
    "        if not(category in attributes) and category != \"Restaurants\":\n",
    "            attributes.append(category)\n",
    "\n",
    "for attr in attributes:\n",
    "    data_dict[attr] = []\n",
    "    for restaurant in data:\n",
    "        if attr == \"latitude\" or attr == \"longitude\":\n",
    "            data_dict[attr].append(restaurant[attr])\n",
    "        elif attr != \"Restaurants\" and attr in restaurant[\"categories\"]:\n",
    "            data_dict[attr].append(1)\n",
    "        else:\n",
    "            data_dict[attr].append(0)\n",
    "            \n",
    "df = pd.DataFrame(data_dict)\n",
    "df.to_csv(\"data/data_pt1.csv\", index=False)\n",
    "\n",
    "data = pd.read_csv(\"data/data_pt1.csv\")\n",
    "data.info(verbose=False, memory_usage=False)"
   ]
  },
  {
   "cell_type": "markdown",
   "metadata": {},
   "source": [
    "### PCA (Principal Components Analysis)\n",
    "\n",
    "Na base de dados, existem 163 atributos. Utilizaremos PCA para comparar (**ESCREVER JUSTIFICATIVA PCA**)"
   ]
  },
  {
   "cell_type": "code",
   "execution_count": 5,
   "metadata": {},
   "outputs": [
    {
     "data": {
      "text/plain": [
       "'centralized_data = data - data.mean()\\npca = PCA(n_components=len(df.columns))\\ndata_pca = pca.fit_transform(centralized_data)\\n\\nwith plt.style.context(\\'seaborn-whitegrid\\'):\\n    plt.rcParams[\"figure.figsize\"] = (40, 25)\\n    plt.rcParams[\\'font.size\\'] = 20.0\\n\\n    plt.bar(range(1, len(df.columns) + 1), pca.explained_variance_ratio_, alpha=0.5, align=\\'center\\', label=\\'individual explained variance\\')\\n\\n    variance = pca.explained_variance_ratio_\\n    for i, j in enumerate(variance):\\n        variance[i] = sum(variance[i - 1:i + 1]) if i > 0 else variance[i]\\n\\n    plt.step(range(1, len(df.columns) + 1), variance, where=\\'mid\\', label=\\'cumulative explained variance\\')\\n\\n    plt.xticks(range(1, len(df.columns)))\\n    plt.ylabel(\\'Explained variance ratio\\')\\n    plt.xlabel(\\'Principal components\\')\\n    plt.legend(loc=\\'best\\')\\n    plt.title(\\'Variance explained with PCA\\')\\n    plt.tight_layout()\\n\\nvariance[47]'"
      ]
     },
     "execution_count": 5,
     "metadata": {},
     "output_type": "execute_result"
    }
   ],
   "source": [
    "'''centralized_data = data - data.mean()\n",
    "pca = PCA(n_components=len(df.columns))\n",
    "data_pca = pca.fit_transform(centralized_data)\n",
    "\n",
    "with plt.style.context('seaborn-whitegrid'):\n",
    "    plt.rcParams[\"figure.figsize\"] = (40, 25)\n",
    "    plt.rcParams['font.size'] = 20.0\n",
    "\n",
    "    plt.bar(range(1, len(df.columns) + 1), pca.explained_variance_ratio_, alpha=0.5, align='center', label='individual explained variance')\n",
    "\n",
    "    variance = pca.explained_variance_ratio_\n",
    "    for i, j in enumerate(variance):\n",
    "        variance[i] = sum(variance[i - 1:i + 1]) if i > 0 else variance[i]\n",
    "\n",
    "    plt.step(range(1, len(df.columns) + 1), variance, where='mid', label='cumulative explained variance')\n",
    "\n",
    "    plt.xticks(range(1, len(df.columns)))\n",
    "    plt.ylabel('Explained variance ratio')\n",
    "    plt.xlabel('Principal components')\n",
    "    plt.legend(loc='best')\n",
    "    plt.title('Variance explained with PCA')\n",
    "    plt.tight_layout()\n",
    "\n",
    "variance[47]'''"
   ]
  },
  {
   "cell_type": "markdown",
   "metadata": {},
   "source": [
    "## Escolha dos possíveis valores de $k$ com inércia"
   ]
  },
  {
   "cell_type": "code",
   "execution_count": 10,
   "metadata": {},
   "outputs": [
    {
     "data": {
      "text/plain": [
       "[<matplotlib.lines.Line2D at 0xd3aa65d470>]"
      ]
     },
     "execution_count": 10,
     "metadata": {},
     "output_type": "execute_result"
    },
    {
     "data": {
      "image/png": "[encoded data removed]",
      "text/plain": [
       "<Figure size 432x288 with 1 Axes>"
      ]
     },
     "metadata": {},
     "output_type": "display_data"
    }
   ],
   "source": [
    "inertia = []\n",
    "\n",
    "# Normalização dos dados\n",
    "for column in data:\n",
    "    data[column] = (data[column] - data[column].min()) / (data[column].max() - data[column].min())\n",
    "    \n",
    "for k in range(2, 150):\n",
    "    km = KMeans(n_clusters=k, n_jobs=-1)\n",
    "    labels = km.fit_predict(data)\n",
    "    inertia.append(km.inertia_)\n",
    "    \n",
    "plt.plot(range(2, 150), inertia)"
   ]
  },
  {
   "cell_type": "markdown",
   "metadata": {},
   "source": [
    "## Aplicação dos algoritmos de agrupamento para $k$ com valores entre 26 a 35"
   ]
  },
  {
   "cell_type": "code",
   "execution_count": 16,
   "metadata": {},
   "outputs": [],
   "source": [
    "# for k in range(26, 36):\n",
    "#     labels_kmeans[str(k)] = []\n",
    "#     labels_gmm[str(k)] = []\n",
    "#     labels_hierarchical[str(k)] = []\n",
    "#     labels_spectral[str(k)] = []\n",
    "\n",
    "labels_kmeans = {}\n",
    "labels_gmm = {}\n",
    "labels_hierarchical = {}\n",
    "labels_spectral = {}\n",
    "    \n",
    "for k in range(26, 36):\n",
    "    km = KMeans(n_clusters=k, n_jobs=-1)\n",
    "    labels_kmeans[str(k)] = km.fit_predict(data)\n",
    "\n",
    "for k in range(26, 36):\n",
    "    gmm = GaussianMixture(n_components=k)\n",
    "    fitGMM = gmm.fit(data) \n",
    "    labels_gmm[str(k)] = gmm.predict(data)\n",
    "\n",
    "for k in range(26, 36):\n",
    "    hierarchical = AgglomerativeClustering(n_clusters=k, linkage='ward')\n",
    "    labels_hierarchical[str(k)] = hierarchical.fit_predict(data)\n",
    "\n",
    "for k in range(26, 36):\n",
    "    spectral = SpectralClustering(n_clusters=k, n_jobs=-1)\n",
    "    labels_spectral[str(k)] = spectral.fit_predict(data)"
   ]
  },
  {
   "cell_type": "markdown",
   "metadata": {},
   "source": [
    "## Parte II\n",
    "\n",
    "O objetivo dessa parte é o mesmo da Parte I (de **(a)** a **(f)**). Mas agora, vocês não poderão utilizar o atributo `categories`. Vocês deverão \"inferir as categorias\" de cada restaurante a partir de seus respectivos _reviews_ no Yelp.\n",
    "O arquivo `yelp_academic_dataset_review.json` contém uma coleção de _reviews_, novamente, cada linha (_review_) é um _json_, como o do exemplo abaixo.\n",
    "\n",
    "Através do atributo `business_id` você pode identificar todos os _reviews_ \n",
    "de cada restaurante em Las Vegas. Além desse atributo, necessita-se apenas do atributo `text`, i.e., o conteúdo do _review_.\n",
    "\n",
    "\n"
   ]
  },
  {
   "cell_type": "code",
   "execution_count": 2,
   "metadata": {},
   "outputs": [
    {
     "name": "stdout",
     "output_type": "stream",
     "text": [
      "{\n",
      "   \"funny\": 0,\n",
      "   \"user_id\": \"bv2nCi5Qv5vroFiqKGopiw\",\n",
      "   \"review_id\": \"n6QzIUObkYshz4dz2QRJTw\",\n",
      "   \"text\": \"Small unassuming place that changes their menu every so often. Cool decor and vibe inside their 30 seat restaurant. Call for a reservation. \\n\\nWe had their beef tartar and pork belly to start and a salmon dish and lamb meal for mains. Everything was incredible! I could go on at length about how all the listed ingredients really make their dishes amazing but honestly you just need to go. \\n\\nA bit outside of downtown montreal but take the metro out and it's less than a 10 minute walk from the station.\",\n",
      "   \"business_id\": \"VR6GpWIda3SfvPC-lg9H3w\",\n",
      "   \"stars\": 5,\n",
      "   \"date\": \"2016-05-28\",\n",
      "   \"useful\": 0,\n",
      "   \"cool\": 0\n",
      "}\n"
     ]
    }
   ],
   "source": [
    "import json\n",
    "line = '{\"funny\": 0, \"user_id\": \"bv2nCi5Qv5vroFiqKGopiw\", \"review_id\": \"n6QzIUObkYshz4dz2QRJTw\", \"text\": \"Small unassuming place that changes their menu every so often. Cool decor and vibe inside their 30 seat restaurant. Call for a reservation. \\\\n\\\\nWe had their beef tartar and pork belly to start and a salmon dish and lamb meal for mains. Everything was incredible! I could go on at length about how all the listed ingredients really make their dishes amazing but honestly you just need to go. \\\\n\\\\nA bit outside of downtown montreal but take the metro out and it\\'s less than a 10 minute walk from the station.\", \"business_id\": \"VR6GpWIda3SfvPC-lg9H3w\", \"stars\": 5, \"date\": \"2016-05-28\", \"useful\": 0, \"cool\": 0}'\n",
    "print(json.dumps(json.loads(line), indent = 3))"
   ]
  },
  {
   "cell_type": "code",
   "execution_count": 4,
   "metadata": {},
   "outputs": [],
   "source": [
    "# code for part II starts here"
   ]
  },
  {
   "cell_type": "code",
   "execution_count": null,
   "metadata": {},
   "outputs": [],
   "source": []
  }
 ],
 "metadata": {
  "kernelspec": {
   "display_name": "Python 3",
   "language": "python",
   "name": "python3"
  },
  "language_info": {
   "codemirror_mode": {
    "name": "ipython",
    "version": 3
   },
   "file_extension": ".py",
   "mimetype": "text/x-python",
   "name": "python",
   "nbconvert_exporter": "python",
   "pygments_lexer": "ipython3",
   "version": "3.6.4"
  }
 },
 "nbformat": 4,
 "nbformat_minor": 2
}
