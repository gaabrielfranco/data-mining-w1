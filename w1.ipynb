{
 "cells": [
  {
   "cell_type": "markdown",
   "metadata": {},
   "source": [
    "# Trabalho prático I - Aplicação de técnicas de agrupamento\n",
    "\n",
    "Nesse trabalho aplicaremos técnicas de aprendizado não-supervisionado em dados do [Yelp](https://drive.google.com/file/d/1dYJFszSL_oSoBLRoZGZPBvgywVcvL1M0/view?usp=sharing) (Ver detalhes sobre o Yelp Challenge [aqui](https://www.yelp.com/dataset/challenge)).\n",
    "\n",
    "O objetivo principal é encontrar distritos culinários na cidade de Las Vegas (Estados Unidos).\n",
    "No contexto desse trabalho, distritos culinários são caracterizados por um conjunto de restaurantes que simultaneamente estão próximos (geograficamente) e são similares (com respeito à comida que servem).\n",
    "\n",
    "O trabalho está dividido em duas partes. Em cada uma delas, vocês deverão utilizar uma parte diferente do conjunto de dados. Mais detalhes, nas seções a seguir.\n",
    "\n",
    "Além disso, vocês deverão utilizar _Python_ e _Jupyter Notebooks_, de forma que todos os resultados estarão em um _notebook_ (este aqui que vocês estão lendo). Vocês estarão livres para escolher as bibliotecas que preferirem.\n",
    "\n",
    "Sobre o trabalho:\n",
    "\n",
    "**Grupo:** de até 3 pessoas. Mantenha em mente que 2 pessoas no mesmo grupo neste trabalho não poderão estar no mesmo grupo no trabalho 2. Pode haver repetição com relação aos grupos das listas.\n",
    "\n",
    "**Data de entrega:** **23 de maio de 2018** (para ambas as partes) até às **18 horas**.\n",
    "\n",
    "**Forma de entrega:** Vocês deverão enviar esse notebook (com código, resultados e discussões) para o e-mail do professor. É importante ressaltar que seu notebook tem que ser executável, i.e., resultados (gráficos, tabelas e números) devem ser gerados novamente ao executar o código do notebook a partir do conjunto de dados originais. **A Falha desse último ponto implicará em nota zero!**\n",
    "\n",
    "**Versão do Python:** Python 2 ou Python 3. Apenas indiquem no início do trabalho qual foi escolhida.\n",
    "\n"
   ]
  },
  {
   "cell_type": "markdown",
   "metadata": {},
   "source": [
    "## Parte I\n",
    "\n",
    "No arquivo `yelp_academic_dataset_business.json` estão contidas informações sobre vários estabelecimentos comerciais do conjunto de dados do Yelp, incluindo várias cidades e tipos de estabelecimento que não temos interesse nesse trabalho. Em cada linha do arquivo há uma _string_ contendo um _json_ referente a cada estabelecimento.\n",
    "\n",
    "Abaixo, uma exemplo de _json_. Veja que:\n",
    "-  O atributo `city` identifica a cidade\n",
    "-  O atributo `business_id` é um identificador único no conjunto de dados em todos os arquivos\n",
    "-  Os atributos `latitude` e `longitude` estão disponíveis\n",
    "-  O atributo `categories` caracteriza o ramo de atividade. Todos os restaurantes têm a categoria 'Restaurants' nesse atributo. Além disso, o tipo de culinária de cada restaurante é descrito nesse atributo."
   ]
  },
  {
   "cell_type": "code",
   "execution_count": 1,
   "metadata": {},
   "outputs": [
    {
     "name": "stdout",
     "output_type": "stream",
     "text": [
      "{\n",
      "   \"city\": \"Las Vegas\", \n",
      "   \"neighborhood\": \"Southeast\", \n",
      "   \"name\": \"Flight Deck Bar & Grill\", \n",
      "   \"business_id\": \"Pd52CjgyEU3Rb8co6QfTPw\", \n",
      "   \"longitude\": -115.1708484, \n",
      "   \"hours\": {\n",
      "      \"Monday\": \"8:30-22:30\", \n",
      "      \"Tuesday\": \"8:30-22:30\", \n",
      "      \"Friday\": \"8:30-22:30\", \n",
      "      \"Wednesday\": \"8:30-22:30\", \n",
      "      \"Thursday\": \"8:30-22:30\", \n",
      "      \"Sunday\": \"8:30-22:30\", \n",
      "      \"Saturday\": \"8:30-22:30\"\n",
      "   }, \n",
      "   \"is_open\": 1, \n",
      "   \"state\": \"NV\", \n",
      "   \"postal_code\": \"89119\", \n",
      "   \"stars\": 4.0, \n",
      "   \"address\": \"6730 S Las Vegas Blvd\", \n",
      "   \"latitude\": 36.0669136, \n",
      "   \"review_count\": 13, \n",
      "   \"attributes\": {\n",
      "      \"Alcohol\": \"full_bar\", \n",
      "      \"HasTV\": true, \n",
      "      \"NoiseLevel\": \"average\", \n",
      "      \"RestaurantsAttire\": \"casual\", \n",
      "      \"BusinessAcceptsCreditCards\": true, \n",
      "      \"Music\": {\n",
      "         \"dj\": false, \n",
      "         \"background_music\": true, \n",
      "         \"no_music\": false, \n",
      "         \"karaoke\": false, \n",
      "         \"live\": false, \n",
      "         \"video\": false, \n",
      "         \"jukebox\": false\n",
      "      }, \n",
      "      \"Ambience\": {\n",
      "         \"romantic\": false, \n",
      "         \"intimate\": false, \n",
      "         \"classy\": false, \n",
      "         \"hipster\": false, \n",
      "         \"divey\": false, \n",
      "         \"touristy\": false, \n",
      "         \"trendy\": false, \n",
      "         \"upscale\": false, \n",
      "         \"casual\": true\n",
      "      }, \n",
      "      \"RestaurantsGoodForGroups\": true, \n",
      "      \"Caters\": true, \n",
      "      \"WiFi\": \"free\", \n",
      "      \"RestaurantsReservations\": false, \n",
      "      \"BikeParking\": true, \n",
      "      \"RestaurantsTakeOut\": true, \n",
      "      \"GoodForKids\": true, \n",
      "      \"HappyHour\": true, \n",
      "      \"GoodForDancing\": false, \n",
      "      \"RestaurantsTableService\": true, \n",
      "      \"OutdoorSeating\": false, \n",
      "      \"RestaurantsPriceRange2\": 2, \n",
      "      \"RestaurantsDelivery\": false, \n",
      "      \"BestNights\": {\n",
      "         \"monday\": false, \n",
      "         \"tuesday\": false, \n",
      "         \"friday\": false, \n",
      "         \"wednesday\": true, \n",
      "         \"thursday\": false, \n",
      "         \"sunday\": false, \n",
      "         \"saturday\": false\n",
      "      }, \n",
      "      \"GoodForMeal\": {\n",
      "         \"dessert\": false, \n",
      "         \"latenight\": false, \n",
      "         \"lunch\": true, \n",
      "         \"dinner\": false, \n",
      "         \"breakfast\": false, \n",
      "         \"brunch\": false\n",
      "      }, \n",
      "      \"BusinessParking\": {\n",
      "         \"garage\": false, \n",
      "         \"street\": false, \n",
      "         \"validated\": false, \n",
      "         \"lot\": true, \n",
      "         \"valet\": false\n",
      "      }, \n",
      "      \"CoatCheck\": false, \n",
      "      \"Smoking\": \"no\", \n",
      "      \"WheelchairAccessible\": true\n",
      "   }, \n",
      "   \"categories\": [\n",
      "      \"Nightlife\", \n",
      "      \"Bars\", \n",
      "      \"Barbeque\", \n",
      "      \"Sports Bars\", \n",
      "      \"American (New)\", \n",
      "      \"Restaurants\"\n",
      "   ]\n",
      "}\n"
     ]
    }
   ],
   "source": [
    "import json\n",
    "line = '{\"city\": \"Las Vegas\", \"neighborhood\": \"Southeast\", \"name\": \"Flight Deck Bar & Grill\", \"business_id\": \"Pd52CjgyEU3Rb8co6QfTPw\", \"longitude\": -115.1708484, \"hours\": {\"Monday\": \"8:30-22:30\", \"Tuesday\": \"8:30-22:30\", \"Friday\": \"8:30-22:30\", \"Wednesday\": \"8:30-22:30\", \"Thursday\": \"8:30-22:30\", \"Sunday\": \"8:30-22:30\", \"Saturday\": \"8:30-22:30\"}, \"state\": \"NV\", \"postal_code\": \"89119\", \"categories\": [\"Nightlife\", \"Bars\", \"Barbeque\", \"Sports Bars\", \"American (New)\", \"Restaurants\"], \"stars\": 4.0, \"address\": \"6730 S Las Vegas Blvd\", \"latitude\": 36.0669136, \"review_count\": 13, \"attributes\": {\"Alcohol\": \"full_bar\", \"HasTV\": true, \"NoiseLevel\": \"average\", \"RestaurantsAttire\": \"casual\", \"BusinessAcceptsCreditCards\": true, \"Music\": {\"dj\": false, \"background_music\": true, \"no_music\": false, \"jukebox\": false, \"live\": false, \"video\": false, \"karaoke\": false}, \"Ambience\": {\"romantic\": false, \"intimate\": false, \"classy\": false, \"hipster\": false, \"divey\": false, \"touristy\": false, \"trendy\": false, \"upscale\": false, \"casual\": true}, \"RestaurantsGoodForGroups\": true, \"Caters\": true, \"WiFi\": \"free\", \"RestaurantsReservations\": false, \"BikeParking\": true, \"RestaurantsTakeOut\": true, \"GoodForKids\": true, \"HappyHour\": true, \"GoodForDancing\": false, \"RestaurantsTableService\": true, \"OutdoorSeating\": false, \"RestaurantsPriceRange2\": 2, \"RestaurantsDelivery\": false, \"BestNights\": {\"monday\": false, \"tuesday\": false, \"friday\": false, \"wednesday\": true, \"thursday\": false, \"sunday\": false, \"saturday\": false}, \"GoodForMeal\": {\"dessert\": false, \"latenight\": false, \"lunch\": true, \"dinner\": false, \"brunch\": false, \"breakfast\": false}, \"BusinessParking\": {\"garage\": false, \"street\": false, \"validated\": false, \"lot\": true, \"valet\": false}, \"CoatCheck\": false, \"Smoking\": \"no\", \"WheelchairAccessible\": true}, \"is_open\": 1}'\n",
    "print(json.dumps(json.loads(line), indent = 3))"
   ]
  },
  {
   "cell_type": "markdown",
   "metadata": {},
   "source": [
    "A partir dos dados descritos, você deve encontrar distritos culinários em Las Vegas. Encontre grupos considerando que a similaridade entre restaurantes pode ser inferida pelo atributo `categories` e a proximidade através dos atributos `latitude` e `longitude`.\n",
    "\n",
    "**a)** Proponha uma representação apropriada para os dados. Justifique sua escolha\n",
    "\n",
    "**b)** Utilize técnicas de agrupamento para encontrar distritos culinários. É obrigatório o uso de pelo menos quatro técnicas:\n",
    "-  k-means\n",
    "-  Agrupamento hierárquico\n",
    "-  GMM (Gaussian Mixture Model)\n",
    "-  Agrupamento Espectral\n",
    "\n",
    "**Sugestão:** Todas já estão implementadas na biblioteca _sklearn_\n",
    "\n",
    "**c)** Apresente uma justificativa plausível para o número de grupos utilzado no item anterior\n",
    "\n",
    "**d)** Apresente o `dendrograma` para o resultado do agrupamento hierárquico\n",
    "\n",
    "**e)** Baseado no conteúdo de cada grupo, proponha uma forma sistemática de encontrar _rótulos_ para cada grupo. Veja que se dois grupos forem identificado pelo mesmo rótulo há um problema (com o resultado de seu agrupamento ou com sua forma de rotular grupos)\n",
    "\n",
    "**f)** Faça um gráfico para cada agrupamento obtido da seguinte forma:\n",
    "-  cada restaurante será um ponto no plano de acordo com suas coordenadas geográficas\n",
    "-  a cor de cada ponto será diferente para grupos diferentes\n",
    "-  cada grupo deve ser identificado com seu respectivo rótulo encontrado no item anterior (e.g., através de uma legenda de cor)\n",
    "\n",
    "**g)** Comente os resultados. Comente também as diferenças de cada agrupamento\n",
    "\n",
    "**Observação:** sua criatividade para gerar visualizações informativas e de qualidade será parte da avaliação.\n"
   ]
  },
  {
   "cell_type": "code",
   "execution_count": 2,
   "metadata": {},
   "outputs": [],
   "source": [
    "# code for part I starts here"
   ]
  },
  {
   "cell_type": "code",
   "execution_count": null,
   "metadata": {},
   "outputs": [],
   "source": []
  },
  {
   "cell_type": "markdown",
   "metadata": {},
   "source": [
    "## Parte II\n",
    "\n",
    "O objetivo dessa parte é o mesmo da Parte I (de **(a)** a **(f)**). Mas agora, vocês não poderão utilizar o atributo `categories`. Vocês deverão \"inferir as categorias\" de cada restaurante a partir de seus respectivos _reviews_ no Yelp.\n",
    "O arquivo `yelp_academic_dataset_review.json` contém uma coleção de _reviews_, novamente, cada linha (_review_) é um _json_, como o do exemplo abaixo.\n",
    "\n",
    "Através do atributo `business_id` você pode identificar todos os _reviews_ \n",
    "de cada restaurante em Las Vegas. Além desse atributo, necessita-se apenas do atributo `text`, i.e., o conteúdo do _review_.\n",
    "\n",
    "\n"
   ]
  },
  {
   "cell_type": "code",
   "execution_count": 3,
   "metadata": {},
   "outputs": [
    {
     "name": "stdout",
     "output_type": "stream",
     "text": [
      "{\n",
      "   \"funny\": 0, \n",
      "   \"user_id\": \"bv2nCi5Qv5vroFiqKGopiw\", \n",
      "   \"review_id\": \"n6QzIUObkYshz4dz2QRJTw\", \n",
      "   \"text\": \"Small unassuming place that changes their menu every so often. Cool decor and vibe inside their 30 seat restaurant. Call for a reservation. \\n\\nWe had their beef tartar and pork belly to start and a salmon dish and lamb meal for mains. Everything was incredible! I could go on at length about how all the listed ingredients really make their dishes amazing but honestly you just need to go. \\n\\nA bit outside of downtown montreal but take the metro out and it's less than a 10 minute walk from the station.\", \n",
      "   \"business_id\": \"VR6GpWIda3SfvPC-lg9H3w\", \n",
      "   \"stars\": 5, \n",
      "   \"date\": \"2016-05-28\", \n",
      "   \"useful\": 0, \n",
      "   \"cool\": 0\n",
      "}\n"
     ]
    }
   ],
   "source": [
    "import json\n",
    "line = '{\"funny\": 0, \"user_id\": \"bv2nCi5Qv5vroFiqKGopiw\", \"review_id\": \"n6QzIUObkYshz4dz2QRJTw\", \"text\": \"Small unassuming place that changes their menu every so often. Cool decor and vibe inside their 30 seat restaurant. Call for a reservation. \\\\n\\\\nWe had their beef tartar and pork belly to start and a salmon dish and lamb meal for mains. Everything was incredible! I could go on at length about how all the listed ingredients really make their dishes amazing but honestly you just need to go. \\\\n\\\\nA bit outside of downtown montreal but take the metro out and it\\'s less than a 10 minute walk from the station.\", \"business_id\": \"VR6GpWIda3SfvPC-lg9H3w\", \"stars\": 5, \"date\": \"2016-05-28\", \"useful\": 0, \"cool\": 0}'\n",
    "print(json.dumps(json.loads(line), indent = 3))"
   ]
  },
  {
   "cell_type": "code",
   "execution_count": 4,
   "metadata": {},
   "outputs": [],
   "source": [
    "# code for part II starts here"
   ]
  },
  {
   "cell_type": "code",
   "execution_count": null,
   "metadata": {},
   "outputs": [],
   "source": []
  }
 ],
 "metadata": {
  "kernelspec": {
   "display_name": "Python 3",
   "language": "python",
   "name": "python3"
  },
  "language_info": {
   "codemirror_mode": {
    "name": "ipython",
    "version": 3
   },
   "file_extension": ".py",
   "mimetype": "text/x-python",
   "name": "python",
   "nbconvert_exporter": "python",
   "pygments_lexer": "ipython3",
   "version": "3.6.5"
  }
 },
 "nbformat": 4,
 "nbformat_minor": 2
}
